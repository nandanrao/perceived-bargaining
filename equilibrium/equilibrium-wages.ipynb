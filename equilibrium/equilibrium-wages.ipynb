{
 "cells": [
  {
   "cell_type": "code",
   "execution_count": 1,
   "metadata": {
    "autoscroll": false,
    "collapsed": false,
    "ein.tags": "worksheet-0",
    "slideshow": {
     "slide_type": "-"
    }
   },
   "outputs": [],
   "source": [
    "%load_ext autoreload\n",
    "%autoreload 2"
   ]
  },
  {
   "cell_type": "code",
   "execution_count": 10,
   "metadata": {
    "autoscroll": false,
    "collapsed": false,
    "ein.tags": "worksheet-0",
    "slideshow": {
     "slide_type": "-"
    }
   },
   "outputs": [],
   "source": [
    "from eq import *\n",
    "from copy import deepcopy\n",
    "import seaborn as sns"
   ]
  },
  {
   "cell_type": "code",
   "execution_count": 3,
   "metadata": {
    "autoscroll": false,
    "collapsed": false,
    "ein.tags": "worksheet-0",
    "slideshow": {
     "slide_type": "-"
    }
   },
   "outputs": [],
   "source": [
    "distortion = (1.84 - 1.19)/1.19"
   ]
  },
  {
   "cell_type": "code",
   "execution_count": 21,
   "metadata": {
    "autoscroll": false,
    "collapsed": false,
    "ein.tags": "worksheet-0",
    "slideshow": {
     "slide_type": "-"
    }
   },
   "outputs": [],
   "source": [
    "params_foo = {\n",
    "'aH': 1,\n",
    "'aL': .05,\n",
    "'y': .11,\n",
    "'c': .05,\n",
    "'b': .025,\n",
    "'delta': .007,\n",
    "'sigma': .1,\n",
    "'r': .04,\n",
    "'B': .7,\n",
    "'precision': .01,\n",
    "'bias': 0\n",
    "}\n",
    "\n",
    "foo = Equilibrium(**params_foo)\n",
    "_ = foo.equilibrium(3)\n",
    "\n",
    "params_bar = deepcopy(params_foo)\n",
    "params_bar['bias'] = 0.55\n",
    "\n",
    "bar = Equilibrium(**params_bar)\n",
    "_ = bar.equilibrium(3)"
   ]
  },
  {
   "cell_type": "code",
   "execution_count": 6,
   "metadata": {
    "autoscroll": false,
    "collapsed": false,
    "ein.tags": "worksheet-0",
    "slideshow": {
     "slide_type": "-"
    }
   },
   "outputs": [
    {
     "data": {
      "text/plain": [
       "(array([ 0.05910233,  0.43233295]), array([ 0.19094003,  0.06609808]))"
      ]
     },
     "execution_count": 6,
     "metadata": {},
     "output_type": "execute_result"
    }
   ],
   "source": [
    "foo.belief_tree.get_amounts('employed'), foo.belief_tree.get_amounts('unemployed')"
   ]
  },
  {
   "cell_type": "code",
   "execution_count": 7,
   "metadata": {
    "autoscroll": false,
    "collapsed": false,
    "ein.tags": "worksheet-0",
    "slideshow": {
     "slide_type": "-"
    }
   },
   "outputs": [
    {
     "data": {
      "text/plain": [
       "(array([ 0.06038119,  0.43289064]), array([ 0.19061599,  0.06554537]))"
      ]
     },
     "execution_count": 7,
     "metadata": {},
     "output_type": "execute_result"
    }
   ],
   "source": [
    "bar.belief_tree.get_amounts('employed'), bar.belief_tree.get_amounts('unemployed')"
   ]
  },
  {
   "cell_type": "code",
   "execution_count": 11,
   "metadata": {
    "autoscroll": false,
    "collapsed": false,
    "ein.tags": "worksheet-0",
    "slideshow": {
     "slide_type": "-"
    }
   },
   "outputs": [],
   "source": [
    "sns.set(font = 'serif')\n",
    "sns.set(font = 'serif', style = 'whitegrid')"
   ]
  },
  {
   "cell_type": "code",
   "execution_count": 12,
   "metadata": {
    "autoscroll": false,
    "collapsed": false,
    "ein.tags": "worksheet-0",
    "slideshow": {
     "slide_type": "-"
    }
   },
   "outputs": [
    {
     "data": {
      "image/png": "[encoded data removed]",
      "text/plain": [
       "<matplotlib.figure.Figure at 0x7efcf8de4710>"
      ]
     },
     "metadata": {},
     "output_type": "display_data"
    }
   ],
   "source": [
    "d = pd.DataFrame({ '{}'.format(np.round(distortion, 2)): bar.get_wage_distribution(), '0': foo.get_wage_distribution()})\n",
    "d = d.melt().rename(columns = {'variable': 'bias'})\n",
    "d = d[(d > 0) & (d < 2)] # just filters out the random oddities from rng and inversion\n",
    "g = sns.FacetGrid(d, col = 'bias')\n",
    "g.map(sns.distplot, 'value').set(xlim = (1.0, 1.6)).savefig('wage-distributions.pdf')"
   ]
  },
  {
   "cell_type": "code",
   "execution_count": 293,
   "metadata": {
    "autoscroll": false,
    "collapsed": false,
    "ein.tags": "worksheet-0",
    "slideshow": {
     "slide_type": "-"
    }
   },
   "outputs": [],
   "source": [
    "g = None"
   ]
  },
  {
   "cell_type": "code",
   "execution_count": 17,
   "metadata": {
    "autoscroll": false,
    "collapsed": false,
    "ein.tags": "worksheet-0",
    "slideshow": {
     "slide_type": "-"
    }
   },
   "outputs": [
    {
     "data": {
      "text/plain": [
       "(0.039040500919037359, 0.031572133446069281)"
      ]
     },
     "execution_count": 17,
     "metadata": {},
     "output_type": "execute_result"
    }
   ],
   "source": [
    "a = bar.get_wage_distribution()\n",
    "bar.get_gini(), foo.get_gini()"
   ]
  },
  {
   "cell_type": "code",
   "execution_count": 14,
   "metadata": {
    "autoscroll": false,
    "collapsed": false,
    "ein.tags": "worksheet-0",
    "slideshow": {
     "slide_type": "-"
    }
   },
   "outputs": [
    {
     "data": {
      "text/plain": [
       "0.044581535250016846"
      ]
     },
     "execution_count": 14,
     "metadata": {},
     "output_type": "execute_result"
    }
   ],
   "source": [
    "d = {k:v for k,v in bar._get_wages('L')}\n",
    "wages, probs = list(d.keys()), list(d.values())\n",
    "probs = probs/sum(probs)\n",
    "a = np.random.choice(wages, 100000, p = probs)\n",
    "gini(a)"
   ]
  },
  {
   "cell_type": "code",
   "execution_count": 15,
   "metadata": {
    "autoscroll": false,
    "collapsed": false,
    "ein.tags": "worksheet-0",
    "slideshow": {
     "slide_type": "-"
    }
   },
   "outputs": [
    {
     "data": {
      "text/plain": [
       "0.045036304671622722"
      ]
     },
     "execution_count": 15,
     "metadata": {},
     "output_type": "execute_result"
    }
   ],
   "source": [
    "d = {k:v for k,v in foo._get_wages('L')}\n",
    "wages, probs = list(d.keys()), list(d.values())\n",
    "probs = probs/sum(probs)\n",
    "a = np.random.choice(wages, 100000, p = probs)\n",
    "gini(a)"
   ]
  },
  {
   "cell_type": "code",
   "execution_count": 398,
   "metadata": {
    "autoscroll": false,
    "collapsed": false,
    "ein.tags": "worksheet-0",
    "slideshow": {
     "slide_type": "-"
    }
   },
   "outputs": [
    {
     "name": "stdout",
     "output_type": "stream",
     "text": [
      "\\begin{center}\n",
      "\\begin{tabular}{lcc}\n",
      "\\hline\n",
      "          & Group B & Group A  \\\\\n",
      "\\hline\n",
      "\\hline\n",
      "\\end{tabular}\n",
      "\\begin{tabular}{lrr}\n",
      "B         &    0.70 &    0.70  \\\\\n",
      "aH        &    1.00 &    1.00  \\\\\n",
      "aL        &    0.05 &    0.05  \\\\\n",
      "b         &    0.03 &    0.03  \\\\\n",
      "bias      &    0.00 &    0.55  \\\\\n",
      "c         &    0.05 &    0.05  \\\\\n",
      "delta     &    0.01 &    0.01  \\\\\n",
      "precision &    0.01 &    0.01  \\\\\n",
      "r         &    0.04 &    0.04  \\\\\n",
      "sigma     &    0.10 &    0.10  \\\\\n",
      "y         &    0.11 &    0.11  \\\\\n",
      "\\hline\n",
      "\\end{tabular}\n",
      "\\end{center}\n"
     ]
    }
   ],
   "source": [
    "from statsmodels.iolib.summary2 import _df_to_simpletable\n",
    "\n",
    "_ = pd.DataFrame([params_foo, params_bar], index = ['Group B', 'Group A'])\n",
    "\n",
    "print(_df_to_simpletable(_.T, float_format='%.2f').as_latex_tabular())"
   ]
  },
  {
   "cell_type": "code",
   "execution_count": 28,
   "metadata": {
    "autoscroll": false,
    "collapsed": false,
    "ein.tags": "worksheet-0",
    "slideshow": {
     "slide_type": "-"
    }
   },
   "outputs": [
    {
     "data": {
      "text/plain": [
       "<matplotlib.axes._subplots.AxesSubplot at 0x7f69f2711710>"
      ]
     },
     "execution_count": 28,
     "metadata": {},
     "output_type": "execute_result"
    },
    {
     "data": {
      "image/png": "[encoded data removed]",
      "text/plain": [
       "<matplotlib.figure.Figure at 0x7f69f2d472b0>"
      ]
     },
     "metadata": {},
     "output_type": "display_data"
    },
    {
     "data": {
      "image/png": "[encoded data removed]",
      "text/plain": [
       "<matplotlib.figure.Figure at 0x7f69f27b9dd8>"
      ]
     },
     "metadata": {},
     "output_type": "display_data"
    }
   ],
   "source": [
    "foo.plot_wages('H')\n",
    "bar.plot_wages('H')"
   ]
  },
  {
   "cell_type": "code",
   "execution_count": 29,
   "metadata": {
    "autoscroll": false,
    "collapsed": false,
    "ein.tags": "worksheet-0",
    "slideshow": {
     "slide_type": "-"
    }
   },
   "outputs": [
    {
     "data": {
      "text/plain": [
       "<matplotlib.axes._subplots.AxesSubplot at 0x7f69f25e55c0>"
      ]
     },
     "execution_count": 29,
     "metadata": {},
     "output_type": "execute_result"
    },
    {
     "data": {
      "image/png": "[encoded data removed]",
      "text/plain": [
       "<matplotlib.figure.Figure at 0x7f69f269c470>"
      ]
     },
     "metadata": {},
     "output_type": "display_data"
    },
    {
     "data": {
      "image/png": "[encoded data removed]",
      "text/plain": [
       "<matplotlib.figure.Figure at 0x7f69f25d8630>"
      ]
     },
     "metadata": {},
     "output_type": "display_data"
    }
   ],
   "source": [
    "foo.plot_wages('L')\n",
    "bar.plot_wages('L')"
   ]
  },
  {
   "cell_type": "code",
   "execution_count": 22,
   "metadata": {
    "autoscroll": false,
    "collapsed": false,
    "ein.tags": "worksheet-0",
    "slideshow": {
     "slide_type": "-"
    }
   },
   "outputs": [
    {
     "data": {
      "text/plain": [
       "|--m: 0.53, u: 0.1000, e: 0.0000 \n   |--m: 0.24, u: 0.0541, e: 0.0000 \n      |--m: 0.09, u: 0.0388, e: 0.0000 \n      |--m: 0.84, u: 0.0006, e: 0.0933 \n   |--m: 0.95, u: 0.0021, e: 0.3378 \n      |--m: 0.88, u: 0.0007, e: 0.0000 \n      |--m: 1.00, u: 0.0001, e: 0.0117 "
      ]
     },
     "execution_count": 22,
     "metadata": {},
     "output_type": "execute_result"
    }
   ],
   "source": [
    "foo.belief_tree"
   ]
  },
  {
   "cell_type": "code",
   "execution_count": 20,
   "metadata": {
    "autoscroll": false,
    "collapsed": false,
    "ein.tags": "worksheet-0",
    "slideshow": {
     "slide_type": "-"
    }
   },
   "outputs": [
    {
     "data": {
      "text/plain": [
       "|--m: 0.53, u: 0.1000, e: 0.0000 \n   |--m: 0.12, u: 0.0541, e: 0.0000 \n      |--m: 0.04, u: 0.0382, e: 0.0000 \n      |--m: 0.65, u: 0.0006, e: 0.0988 \n   |--m: 0.95, u: 0.0021, e: 0.3378 \n      |--m: 0.81, u: 0.0007, e: 0.0000 \n      |--m: 1.00, u: 0.0001, e: 0.0117 "
      ]
     },
     "execution_count": 20,
     "metadata": {},
     "output_type": "execute_result"
    }
   ],
   "source": [
    ".belief_tree"
   ]
  }
 ],
 "metadata": {
  "kernelspec": {
   "display_name": "Python 3",
   "name": "python3"
  },
  "language_info": {
   "codemirror_mode": {
    "name": "ipython",
    "version": 3
   },
   "file_extension": ".py",
   "mimetype": "text/x-python",
   "name": "python",
   "nbconvert_exporter": "python",
   "pygments_lexer": "ipython3",
   "version": "3.6.5"
  },
  "name": "equilibrium-wages.ipynb"
 },
 "nbformat": 4,
 "nbformat_minor": 2
}
