{
 "cells": [
  {
   "cell_type": "code",
   "execution_count": 16,
   "metadata": {
    "autoscroll": false,
    "collapsed": false,
    "ein.tags": "worksheet-0",
    "slideshow": {
     "slide_type": "-"
    }
   },
   "outputs": [],
   "source": [
    "! pip install --quiet pymongo[srv,tls] \n",
    "# ! pip install --quiet pystan"
   ]
  },
  {
   "cell_type": "code",
   "execution_count": 17,
   "metadata": {
    "autoscroll": false,
    "collapsed": false,
    "ein.tags": "worksheet-0",
    "slideshow": {
     "slide_type": "-"
    }
   },
   "outputs": [],
   "source": [
    "from pymongo import MongoClient\n",
    "from dateutil.parser import parse\n",
    "import pandas as pd\n",
    "import numpy as np\n",
    "import seaborn as sns\n",
    "import statsmodels.api as sm\n",
    "from scipy.stats import mannwhitneyu, f_oneway\n",
    "import os"
   ]
  },
  {
   "cell_type": "code",
   "execution_count": 18,
   "metadata": {
    "autoscroll": false,
    "collapsed": false,
    "ein.tags": "worksheet-0",
    "slideshow": {
     "slide_type": "-"
    }
   },
   "outputs": [],
   "source": [
    "client = MongoClient(os.environ.get('MONGO_HOST'), \n",
    "            username = os.environ.get('MONGO_USER'), \n",
    "                     password = os.environ.get('MONGO_PASS'))\n",
    "coll = client['mab-survey'].trial"
   ]
  },
  {
   "cell_type": "code",
   "execution_count": 19,
   "metadata": {
    "autoscroll": false,
    "collapsed": false,
    "ein.tags": "worksheet-0",
    "slideshow": {
     "slide_type": "-"
    }
   },
   "outputs": [],
   "source": [
    "def get_avg_interval(boxes):\n",
    "    times = [parse(b['timestamp']) for b in boxes]\n",
    "    return np.mean(np.diff(times)).seconds\n",
    "    \n",
    "def get_spread(d): \n",
    "    boxes = d['boxes'][1]\n",
    "    return parse(boxes[-1]['timestamp']) - parse(boxes[0]['timestamp'])\n",
    "\n",
    "won = lambda b: len([i for i in b if i['result'] == 'win']) > 0"
   ]
  },
  {
   "cell_type": "code",
   "execution_count": 20,
   "metadata": {
    "autoscroll": false,
    "collapsed": false,
    "ein.tags": "worksheet-0",
    "slideshow": {
     "slide_type": "-"
    }
   },
   "outputs": [],
   "source": [
    "l = list(coll.find({ 'version': '0.5'}))"
   ]
  },
  {
   "cell_type": "code",
   "execution_count": 39,
   "metadata": {
    "autoscroll": false,
    "collapsed": false,
    "ein.tags": "worksheet-0",
    "slideshow": {
     "slide_type": "-"
    }
   },
   "outputs": [
    {
     "data": {
      "text/plain": [
       "   roll_time  rolls     time treatment    won  opportunity_cost  \\\n0         16      6   82.304         b  False          0.037425   \n1         13      7   82.119         b  False          0.040917   \n2          3     21   74.603         a  False          0.069156   \n3          5     53  307.298         a  False          0.017331   \n6         14     28  393.371         b  False          0.011356   \n\n   opportunity_cost_log  opportunity_cost_linear  group  prize  \n0              0.038233                 3.906250      1    500  \n1              0.041813                 4.273504      1    500  \n2              0.070784                 7.246377      2    500  \n3              0.017749                 1.818182      2    500  \n6              0.011626                 1.190476      1    500  "
      ]
     },
     "execution_count": 39,
     "metadata": {},
     "output_type": "execute_result"
    }
   ],
   "source": [
    "from scipy.stats import beta\n",
    "\n",
    "w = [won(i['boxes'][1]) for i in l]\n",
    "t = [i['treatment']['ab'] for i in l]\n",
    "time = [get_spread(d).total_seconds() for d in l]\n",
    "rolls = [len(d['boxes'][1]) for d in l]\n",
    "avg = [get_avg_interval(i['boxes'][1]) for i in l]\n",
    "\n",
    "df = pd.DataFrame({\n",
    "    'won': w,\n",
    "    'treatment': t,\n",
    "    'time': time,\n",
    "    'rolls': rolls,\n",
    "    'roll_time': avg\n",
    "})\n",
    "\n",
    "\n",
    "\n",
    "prize = 500\n",
    "posterior = lambda n: beta.mean(1,1 + n)\n",
    "# c = lambda rho: lambda p: p**(1/(1-rho)) * prize\n",
    "c = lambda rho: lambda p: (p * (prize + 1)**(1-rho) - p + 1)**(1/(1-rho))\n",
    "\n",
    "def marginal(alpha = 1, prev = 500):\n",
    "    return lambda c: 1 - np.exp(-alpha * (prev + c))\n",
    "\n",
    "\n",
    "def c(rho, prize = 5, base = 100):\n",
    "    u = lambda c: (c**(1 - rho) - 1)/(1 - rho)\n",
    "    def marginal(p):\n",
    "        a = p * u(prize + base) + (1 - p) * u(base)\n",
    "        return (a * (1-rho) + 1)**(1/(1-rho)) - base\n",
    "    return marginal\n",
    "\n",
    "# c = lambda rho: lambda p: prize**p\n",
    "# opportunity cost per second\n",
    "# (5p - p + 1)/rolltime\n",
    "# vs -- that +1 messes it up!\n",
    "# p*5/roll_time\n",
    "\n",
    "\n",
    "# df['opportunity_cost'] = df.rolls.map(posterior).map(c(2.)) / df.roll_time\n",
    "df['opportunity_cost'] = df.rolls.map(posterior).map(c(2.)) / df.roll_time\n",
    "df['opportunity_cost_log'] = df.rolls.map(posterior).map(c(1.001)) / df.roll_time\n",
    "# df['opportunity_cost_log'] = df.rolls.map(posterior).map(lambda p: (prize + 1)**p) / df.roll_time - 1/df.roll_time\n",
    "# df['opportunity_cost_linear'] = df.rolls.map(posterior).map(lambda p: p*prize + 1 - p) / df.roll_time \n",
    "# df['opportunity_cost_linear'] = df.rolls.map(posterior) * prize / df.roll_time - (1 - 1/df.roll_time) - 1\n",
    "df['opportunity_cost_linear'] = df.rolls.map(posterior) * prize/ df.roll_time\n",
    "\n",
    "\n",
    "df = df.assign(group = (df.treatment == 'a').astype(int) + 1)\n",
    "df = df.assign(prize = prize )\n",
    "\n",
    "(_,a),(_,b) = df[df.won == False].groupby('treatment')\n",
    "\n",
    "d = df[df.won == False]\n",
    "\n",
    "d.head()"
   ]
  },
  {
   "cell_type": "code",
   "execution_count": 48,
   "metadata": {
    "autoscroll": false,
    "collapsed": false,
    "ein.tags": "worksheet-0",
    "slideshow": {
     "slide_type": "-"
    }
   },
   "outputs": [
    {
     "data": {
      "text/plain": [
       "(0.080471895621705022, 0.048790164169432049)"
      ]
     },
     "execution_count": 48,
     "metadata": {},
     "output_type": "execute_result"
    }
   ],
   "source": [
    "np.log(5)*.05, np.log(1.05)"
   ]
  },
  {
   "cell_type": "code",
   "execution_count": null,
   "metadata": {
    "autoscroll": false,
    "collapsed": false,
    "ein.tags": "worksheet-0",
    "slideshow": {
     "slide_type": "-"
    }
   },
   "outputs": [],
   "source": [
    "d.to_csv('distortion.csv')"
   ]
  },
  {
   "cell_type": "code",
   "execution_count": 3,
   "metadata": {
    "autoscroll": false,
    "collapsed": false,
    "ein.tags": "worksheet-0",
    "slideshow": {
     "slide_type": "-"
    }
   },
   "outputs": [],
   "source": [
    "d = pd.read_csv('./distortion.csv')"
   ]
  },
  {
   "cell_type": "code",
   "execution_count": 28,
   "metadata": {
    "autoscroll": false,
    "collapsed": false,
    "ein.tags": "worksheet-0",
    "slideshow": {
     "slide_type": "-"
    }
   },
   "outputs": [],
   "source": [
    "prize = 5\n",
    "posterior = lambda n: beta.mean(1,1 + n)\n",
    "c = lambda rho: lambda p: p**(1/(1-rho)) * prize\n",
    "\n",
    "d['opportunity_cost'] = d.rolls.map(posterior).map(c(1.02)) / d.roll_time\n",
    "\n",
    "(_,a),(_,b) = d[d.won == False].groupby('treatment')"
   ]
  },
  {
   "cell_type": "code",
   "execution_count": 4,
   "metadata": {
    "autoscroll": false,
    "collapsed": false,
    "ein.tags": "worksheet-0",
    "slideshow": {
     "slide_type": "-"
    }
   },
   "outputs": [],
   "source": [
    "# eps_all = pd.read_csv('eps.all.csv')\n",
    "means = pd.read_csv('eps_sampled3.csv')\n",
    "means = means.rename(columns = {'mean_epsilon.1': 'B', 'mean_epsilon.2': 'A'})"
   ]
  },
  {
   "cell_type": "code",
   "execution_count": 9,
   "metadata": {
    "autoscroll": false,
    "collapsed": false,
    "ein.tags": "worksheet-0",
    "slideshow": {
     "slide_type": "-"
    }
   },
   "outputs": [
    {
     "data": {
      "text/plain": [
       "0.55593037418485969"
      ]
     },
     "execution_count": 9,
     "metadata": {},
     "output_type": "execute_result"
    }
   ],
   "source": [
    "(np.median(means.A) - np.median(means.B)) / np.median(means.B)"
   ]
  },
  {
   "cell_type": "code",
   "execution_count": 11,
   "metadata": {
    "autoscroll": false,
    "collapsed": false,
    "ein.tags": "worksheet-0",
    "slideshow": {
     "slide_type": "-"
    }
   },
   "outputs": [
    {
     "data": {
      "text/plain": [
       "0.0089859999999999992"
      ]
     },
     "execution_count": 11,
     "metadata": {},
     "output_type": "execute_result"
    }
   ],
   "source": [
    "def post_anova(N):\n",
    "    a = np.random.choice(means.A, N)\n",
    "    b = np.random.choice(means.B, N)\n",
    "    return ((b - a) > 0).sum()/N\n",
    "\n",
    "post_anova(1000000)"
   ]
  },
  {
   "cell_type": "code",
   "execution_count": 14,
   "metadata": {
    "autoscroll": false,
    "collapsed": false,
    "ein.tags": "worksheet-0",
    "slideshow": {
     "slide_type": "-"
    }
   },
   "outputs": [
    {
     "data": {
      "image/png": "[encoded data removed]",
      "text/plain": [
       "<matplotlib.figure.Figure at 0x7fbfb7351d68>"
      ]
     },
     "metadata": {},
     "output_type": "display_data"
    }
   ],
   "source": [
    "import matplotlib.pyplot as plt\n",
    "\n",
    "sns.set(font = 'serif', style = 'whitegrid')\n",
    "sns.distplot(means.A, label = 'A')\n",
    "sns.distplot(means.B, label = 'B')\n",
    "plt.xlabel('Mean Bias')\n",
    "plt.legend()\n",
    "plt.savefig('mean-bias.pdf')\n",
    "plt.show()"
   ]
  },
  {
   "cell_type": "code",
   "execution_count": null,
   "metadata": {
    "autoscroll": false,
    "collapsed": false,
    "ein.tags": "worksheet-0",
    "slideshow": {
     "slide_type": "-"
    }
   },
   "outputs": [],
   "source": [
    "eps_all.drop(['Unnamed: 0'], 1).iloc[:, (d.treatment == 'a').tolist()].plot.hist(bins = 30)"
   ]
  },
  {
   "cell_type": "code",
   "execution_count": null,
   "metadata": {
    "autoscroll": false,
    "collapsed": false,
    "ein.tags": "worksheet-0",
    "slideshow": {
     "slide_type": "-"
    }
   },
   "outputs": [],
   "source": [
    "eps_all.drop(['Unnamed: 0'], 1).iloc[:, (d.treatment == 'b').tolist()].plot.hist(bins = 30)"
   ]
  },
  {
   "cell_type": "code",
   "execution_count": 29,
   "metadata": {
    "autoscroll": false,
    "collapsed": false,
    "ein.tags": "worksheet-0",
    "slideshow": {
     "slide_type": "-"
    }
   },
   "outputs": [],
   "source": [
    "from statsmodels.iolib.summary2 import _df_to_simpletable"
   ]
  },
  {
   "cell_type": "code",
   "execution_count": 40,
   "metadata": {
    "autoscroll": false,
    "collapsed": false,
    "ein.tags": "worksheet-0",
    "slideshow": {
     "slide_type": "-"
    }
   },
   "outputs": [
    {
     "data": {
      "text/plain": [
       "  treatment   N  roll_time      rolls        time  opportunity_cost  \\\n0         a  29   4.000000  54.000000  239.907000          0.020362   \n1         b  28  15.000000  18.000000  311.389000          0.013790   \n2         a  29   4.517241  76.724138  374.412828          0.034801   \n3         b  28  16.892857  23.714286  400.077000          0.019975   \n\n   opportunity_cost_log  opportunity_cost_linear  \n0              0.020857                 2.136752  \n1              0.014114                 1.444847  \n2              0.035613                 3.644960  \n3              0.020419                 2.087507  "
      ]
     },
     "execution_count": 40,
     "metadata": {},
     "output_type": "execute_result"
    }
   ],
   "source": [
    "f = (pd\n",
    "     .concat([d.groupby('treatment').median(), d.groupby('treatment').mean()])\n",
    "     .reset_index())\n",
    "\n",
    "f.insert(1, 'N', [29, 28, 29, 28])\n",
    "f = f.drop(['group', 'prize', 'won'], 1)\n",
    "\n",
    "f"
   ]
  },
  {
   "cell_type": "code",
   "execution_count": 47,
   "metadata": {
    "autoscroll": false,
    "collapsed": false,
    "ein.tags": "worksheet-0",
    "slideshow": {
     "slide_type": "-"
    }
   },
   "outputs": [
    {
     "name": "stdout",
     "output_type": "stream",
     "text": [
      "\\begin{center}\n",
      "\\begin{tabular}{lcccccccc}\n",
      "\\hline\n",
      "  & treatment &    N    & roll\\_time &  rolls  &   time   & opportunity\\_cost & opportunity\\_cost\\_log & opportunity\\_cost\\_linear  \\\\\n",
      "\\hline\n",
      "\\hline\n",
      "\\end{tabular}\n",
      "\\begin{tabular}{lrrrrrrrr}\n",
      "0 &         a & 29.0000 &     4.0000 & 54.0000 & 239.9070 &            0.0204 &                 0.0209 &                    2.1368  \\\\\n",
      "1 &         b & 28.0000 &    15.0000 & 18.0000 & 311.3890 &            0.0138 &                 0.0141 &                    1.4448  \\\\\n",
      "2 &         a & 29.0000 &     4.5172 & 76.7241 & 374.4128 &            0.0348 &                 0.0356 &                    3.6450  \\\\\n",
      "3 &         b & 28.0000 &    16.8929 & 23.7143 & 400.0770 &            0.0200 &                 0.0204 &                    2.0875  \\\\\n",
      "\\hline\n",
      "\\end{tabular}\n",
      "\\end{center}\n"
     ]
    }
   ],
   "source": [
    "print(_df_to_simpletable(f, float_format='%.4f').as_latex_tabular())"
   ]
  },
  {
   "cell_type": "code",
   "execution_count": 35,
   "metadata": {
    "autoscroll": false,
    "collapsed": false,
    "ein.tags": "worksheet-0",
    "slideshow": {
     "slide_type": "-"
    }
   },
   "outputs": [
    {
     "data": {
      "text/plain": [
       "['0.285', '370.000']"
      ]
     },
     "execution_count": 35,
     "metadata": {},
     "output_type": "execute_result"
    }
   ],
   "source": [
    "t = mannwhitneyu(a.time.tolist(), b.time.tolist())\n",
    "stats = [t.pvalue, t.statistic]\n",
    "['{0:.3f}'.format(i) for i in stats]"
   ]
  },
  {
   "cell_type": "code",
   "execution_count": 45,
   "metadata": {
    "autoscroll": false,
    "collapsed": false,
    "ein.tags": "worksheet-0",
    "slideshow": {
     "slide_type": "-"
    }
   },
   "outputs": [
    {
     "data": {
      "text/plain": [
       "['0.078', '316.500']"
      ]
     },
     "execution_count": 45,
     "metadata": {},
     "output_type": "execute_result"
    }
   ],
   "source": [
    "t = mannwhitneyu(a.opportunity_cost_linear.tolist(), b.opportunity_cost_linear.tolist())\n",
    "\n",
    "stats = [t.pvalue, t.statistic]\n",
    "['{0:.3f}'.format(i) for i in stats]"
   ]
  },
  {
   "cell_type": "code",
   "execution_count": 44,
   "metadata": {
    "autoscroll": false,
    "collapsed": false,
    "ein.tags": "worksheet-0",
    "slideshow": {
     "slide_type": "-"
    }
   },
   "outputs": [
    {
     "data": {
      "text/plain": [
       "['0.084', '319.000']"
      ]
     },
     "execution_count": 44,
     "metadata": {},
     "output_type": "execute_result"
    }
   ],
   "source": [
    "t = mannwhitneyu(a.opportunity_cost_log.tolist(), b.opportunity_cost_log.tolist())\n",
    "\n",
    "stats = [t.pvalue, t.statistic]\n",
    "['{0:.3f}'.format(i) for i in stats]"
   ]
  },
  {
   "cell_type": "code",
   "execution_count": 43,
   "metadata": {
    "autoscroll": false,
    "collapsed": false,
    "ein.tags": "worksheet-0",
    "slideshow": {
     "slide_type": "-"
    }
   },
   "outputs": [
    {
     "data": {
      "text/plain": [
       "['0.084', '319.000']"
      ]
     },
     "execution_count": 43,
     "metadata": {},
     "output_type": "execute_result"
    }
   ],
   "source": [
    "t = mannwhitneyu(a.opportunity_cost.tolist(), b.opportunity_cost.tolist())\n",
    "\n",
    "stats = [t.pvalue, t.statistic]\n",
    "['{0:.3f}'.format(i) for i in stats]"
   ]
  },
  {
   "cell_type": "code",
   "execution_count": null,
   "metadata": {
    "autoscroll": false,
    "collapsed": false,
    "ein.tags": "worksheet-0",
    "slideshow": {
     "slide_type": "-"
    }
   },
   "outputs": [],
   "source": [
    "sns.distplot(a.time, bins=30)"
   ]
  },
  {
   "cell_type": "code",
   "execution_count": null,
   "metadata": {
    "autoscroll": false,
    "collapsed": false,
    "ein.tags": "worksheet-0",
    "slideshow": {
     "slide_type": "-"
    }
   },
   "outputs": [],
   "source": [
    "sns.distplot(b.time, bins=30)"
   ]
  },
  {
   "cell_type": "code",
   "execution_count": null,
   "metadata": {
    "autoscroll": false,
    "collapsed": false,
    "ein.tags": "worksheet-0",
    "slideshow": {
     "slide_type": "-"
    }
   },
   "outputs": [],
   "source": [
    "sns.distplot(a.opportunity_cost_log, bins = 35)"
   ]
  },
  {
   "cell_type": "code",
   "execution_count": null,
   "metadata": {
    "autoscroll": false,
    "collapsed": false,
    "ein.tags": "worksheet-0",
    "slideshow": {
     "slide_type": "-"
    }
   },
   "outputs": [],
   "source": [
    "sns.distplot(b.opportunity_cost_log, bins = 35)"
   ]
  },
  {
   "cell_type": "code",
   "execution_count": null,
   "metadata": {
    "autoscroll": false,
    "collapsed": false,
    "ein.tags": "worksheet-0",
    "slideshow": {
     "slide_type": "-"
    }
   },
   "outputs": [],
   "source": [
    "sns.distplot(a.opportunity_cost_linear, bins = 15).set(xlim=(0,.15))"
   ]
  },
  {
   "cell_type": "code",
   "execution_count": null,
   "metadata": {
    "autoscroll": false,
    "collapsed": false,
    "ein.tags": "worksheet-0",
    "slideshow": {
     "slide_type": "-"
    }
   },
   "outputs": [],
   "source": [
    "sns.distplot(b.opportunity_cost_linear, bins = 15).set(xlim=(0,.15))"
   ]
  }
 ],
 "metadata": {
  "kernelspec": {
   "display_name": "Python 3",
   "name": "python3"
  },
  "name": "slow-fast.ipynb"
 },
 "nbformat": 4,
 "nbformat_minor": 2
}
