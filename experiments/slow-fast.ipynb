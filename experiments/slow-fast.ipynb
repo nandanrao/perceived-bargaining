{
 "cells": [
  {
   "cell_type": "code",
   "execution_count": 1,
   "metadata": {
    "autoscroll": false,
    "collapsed": false,
    "ein.tags": "worksheet-0",
    "slideshow": {
     "slide_type": "-"
    }
   },
   "outputs": [],
   "source": [
    "! pip install --quiet pymongo[srv,tls] \n",
    "! pip install --quiet pystan"
   ]
  },
  {
   "cell_type": "code",
   "execution_count": 553,
   "metadata": {
    "autoscroll": false,
    "collapsed": false,
    "ein.tags": "worksheet-0",
    "slideshow": {
     "slide_type": "-"
    }
   },
   "outputs": [],
   "source": [
    "from pymongo import MongoClient\n",
    "from dateutil.parser import parse\n",
    "import pandas as pd\n",
    "import numpy as np\n",
    "import seaborn as sns\n",
    "import statsmodels.api as sm\n",
    "from scipy.stats import mannwhitneyu, f_oneway\n",
    "import os"
   ]
  },
  {
   "cell_type": "code",
   "execution_count": 3,
   "metadata": {
    "autoscroll": false,
    "collapsed": false,
    "ein.tags": "worksheet-0",
    "slideshow": {
     "slide_type": "-"
    }
   },
   "outputs": [],
   "source": [
    "client = MongoClient(os.environ.get('MONGO_HOST'), \n",
    "            username = os.environ.get('MONGO_USER'), \n",
    "                     password = os.environ.get('MONGO_PASS'))\n",
    "coll = client['mab-survey'].trial"
   ]
  },
  {
   "cell_type": "code",
   "execution_count": 4,
   "metadata": {
    "autoscroll": false,
    "collapsed": false,
    "ein.tags": "worksheet-0",
    "slideshow": {
     "slide_type": "-"
    }
   },
   "outputs": [],
   "source": [
    "def get_avg_interval(boxes):\n",
    "    times = [parse(b['timestamp']) for b in boxes]\n",
    "    return np.mean(np.diff(times)).seconds\n",
    "    \n",
    "def get_spread(d): \n",
    "    boxes = d['boxes'][1]\n",
    "    return parse(boxes[-1]['timestamp']) - parse(boxes[0]['timestamp'])\n",
    "\n",
    "won = lambda b: len([i for i in b if i['result'] == 'win']) > 0"
   ]
  },
  {
   "cell_type": "code",
   "execution_count": 5,
   "metadata": {
    "autoscroll": false,
    "collapsed": false,
    "ein.tags": "worksheet-0",
    "slideshow": {
     "slide_type": "-"
    }
   },
   "outputs": [],
   "source": [
    "l = list(coll.find({ 'version': '0.5'}))"
   ]
  },
  {
   "cell_type": "code",
   "execution_count": null,
   "metadata": {
    "autoscroll": false,
    "collapsed": false,
    "ein.tags": "worksheet-0",
    "slideshow": {
     "slide_type": "-"
    }
   },
   "outputs": [],
   "source": [
    "from scipy.stats import beta\n",
    "\n",
    "w = [won(i['boxes'][1]) for i in l]\n",
    "t = [i['treatment']['ab'] for i in l]\n",
    "time = [get_spread(d).total_seconds() for d in l]\n",
    "rolls = [len(d['boxes'][1]) for d in l]\n",
    "avg = [get_avg_interval(i['boxes'][1]) for i in l]\n",
    "\n",
    "df = pd.DataFrame({\n",
    "    'won': w,\n",
    "    'treatment': t,\n",
    "    'time': time,\n",
    "    'rolls': rolls,\n",
    "    'roll_time': avg\n",
    "})\n",
    "\n",
    "\n",
    "prize = 5\n",
    "posterior = lambda n: beta.mean(1,1 + n)\n",
    "c = lambda rho: lambda p: (prize**(1-rho) * p - p + 1)**(1/(1 - rho))\n",
    "# c = lambda rho: lambda p: p**(1/(1-rho)) * prize\n",
    "# c = lambda rho: lambda p: prize**p\n",
    "# opportunity cost per second\n",
    "# (5p - p + 1)/rolltime\n",
    "# vs -- that +1 messes it up!\n",
    "# p*5/roll_time\n",
    "\n",
    "\n",
    "df['opportunity_cost'] = df.rolls.map(posterior).map(c(2.)) / df.roll_time\n",
    "# df['opportunity_cost_linear'] = df.rolls.map(posterior).map(c(0)) / df.roll_time\n",
    "df['opportunity_cost_linear'] = df.rolls.map(posterior) * prize / df.roll_time\n",
    "\n",
    "\n",
    "df = df.assign(group = (df.treatment == 'a').astype(int) + 1)\n",
    "df = df.assign(prize = prize )\n",
    "\n",
    "(_,a),(_,b) = df[df.won == False].groupby('treatment')\n",
    "\n",
    "d = df[df.won == False]\n",
    "\n",
    "d"
   ]
  },
  {
   "cell_type": "code",
   "execution_count": 17,
   "metadata": {
    "autoscroll": false,
    "collapsed": false,
    "ein.tags": "worksheet-0",
    "slideshow": {
     "slide_type": "-"
    }
   },
   "outputs": [
    {
     "name": "stderr",
     "output_type": "stream",
     "text": [
      "INFO:pystan:COMPILING THE C++ CODE FOR MODEL anon_model_3a2910ccf281f0a6e30a080b97437138 NOW.\n"
     ]
    }
   ],
   "source": [
    "from pystan import StanModel\n",
    "\n",
    "model = StanModel('../experiments/distortion-grouped.stan')"
   ]
  },
  {
   "cell_type": "code",
   "execution_count": 18,
   "metadata": {
    "autoscroll": false,
    "collapsed": false,
    "ein.tags": "worksheet-0",
    "slideshow": {
     "slide_type": "-"
    }
   },
   "outputs": [],
   "source": [
    "data = {\n",
    "    'penalty': 1000,\n",
    "    'sd_cost_shape': 10,\n",
    "    'sd_cost_scale': 1,\n",
    "    'sd_epsilon_shape': 2,\n",
    "    'sd_epsilon_scale': 2,\n",
    "    'rho_shape': 3,\n",
    "    'rho_scale': 1,\n",
    "    'mean_epsilon_nu': 5,\n",
    "    'mean_cost_nu': 5,\n",
    "    'mean_cost_center': 0,\n",
    "    'fraction': 10,\n",
    "    'M': d.shape[0],\n",
    "    'N': d.rolls,\n",
    "    'G': d.group,\n",
    "    'roll_time': d.roll_time,\n",
    "    'prize': d.prize\n",
    "}"
   ]
  },
  {
   "cell_type": "code",
   "execution_count": 88,
   "metadata": {
    "autoscroll": false,
    "collapsed": false,
    "ein.tags": "worksheet-0",
    "slideshow": {
     "slide_type": "-"
    }
   },
   "outputs": [],
   "source": [
    "d.to_csv('distortion.csv')"
   ]
  },
  {
   "cell_type": "code",
   "execution_count": 545,
   "metadata": {
    "autoscroll": false,
    "collapsed": false,
    "ein.tags": "worksheet-0",
    "slideshow": {
     "slide_type": "-"
    }
   },
   "outputs": [],
   "source": [
    "eps_all = pd.read_csv('eps.all.csv')\n",
    "means = pd.read_csv('eps.sampled.csv')\n",
    "means = means.rename(columns = {'mean_epsilon.1': 'B', 'mean_epsilon.2': 'A'})"
   ]
  },
  {
   "cell_type": "code",
   "execution_count": 546,
   "metadata": {
    "autoscroll": false,
    "collapsed": false,
    "ein.tags": "worksheet-0",
    "slideshow": {
     "slide_type": "-"
    }
   },
   "outputs": [
    {
     "data": {
      "text/plain": [
       "MannwhitneyuResult(statistic=1820920.0, pvalue=0.0)"
      ]
     },
     "execution_count": 546,
     "metadata": {},
     "output_type": "execute_result"
    }
   ],
   "source": [
    "mannwhitneyu(means.A, means.B)"
   ]
  },
  {
   "cell_type": "code",
   "execution_count": 554,
   "metadata": {
    "autoscroll": false,
    "collapsed": false,
    "ein.tags": "worksheet-0",
    "slideshow": {
     "slide_type": "-"
    }
   },
   "outputs": [
    {
     "data": {
      "text/plain": [
       "F_onewayResult(statistic=5443.7932056721202, pvalue=0.0)"
      ]
     },
     "execution_count": 554,
     "metadata": {},
     "output_type": "execute_result"
    }
   ],
   "source": [
    "f_oneway(means.A, means.B)"
   ]
  },
  {
   "cell_type": "code",
   "execution_count": 547,
   "metadata": {
    "autoscroll": false,
    "collapsed": false,
    "ein.tags": "worksheet-0",
    "slideshow": {
     "slide_type": "-"
    }
   },
   "outputs": [
    {
     "data": {
      "text/plain": [
       "(1.79712507793062, 1.152832592342695)"
      ]
     },
     "execution_count": 547,
     "metadata": {},
     "output_type": "execute_result"
    }
   ],
   "source": [
    "np.median(means.A), np.median(means.B)"
   ]
  },
  {
   "cell_type": "code",
   "execution_count": 550,
   "metadata": {
    "autoscroll": false,
    "collapsed": false,
    "ein.tags": "worksheet-0",
    "slideshow": {
     "slide_type": "-"
    }
   },
   "outputs": [
    {
     "data": {
      "text/plain": [
       "0.113395"
      ]
     },
     "execution_count": 550,
     "metadata": {},
     "output_type": "execute_result"
    }
   ],
   "source": [
    "def foo(N):\n",
    "    a = np.random.choice(means.A, N)\n",
    "    b = np.random.choice(means.B, N)\n",
    "    return ((b - a) > 0).sum()/N\n",
    "\n",
    "foo(1000000)"
   ]
  },
  {
   "cell_type": "code",
   "execution_count": 551,
   "metadata": {
    "autoscroll": false,
    "collapsed": false,
    "ein.tags": "worksheet-0",
    "slideshow": {
     "slide_type": "-"
    }
   },
   "outputs": [
    {
     "data": {
      "image/png": "[encoded data removed]",
      "text/plain": [
       "<matplotlib.figure.Figure at 0x7f56a58c73c8>"
      ]
     },
     "metadata": {},
     "output_type": "display_data"
    }
   ],
   "source": [
    "import matplotlib.pyplot as plt\n",
    "\n",
    "sns.set(font = 'serif', style = 'whitegrid')\n",
    "sns.distplot(means.A, label = 'A')\n",
    "sns.distplot(means.B, label = 'B')\n",
    "plt.xlabel('Mean Bias')\n",
    "plt.legend()\n",
    "plt.savefig('mean-bias.pdf')\n",
    "plt.show()"
   ]
  },
  {
   "cell_type": "code",
   "execution_count": null,
   "metadata": {
    "autoscroll": false,
    "collapsed": false,
    "ein.tags": "worksheet-0",
    "slideshow": {
     "slide_type": "-"
    }
   },
   "outputs": [],
   "source": [
    "eps_all.drop(['Unnamed: 0'], 1).iloc[:, (d.treatment == 'a').tolist()].plot.hist(bins = 30)"
   ]
  },
  {
   "cell_type": "code",
   "execution_count": null,
   "metadata": {
    "autoscroll": false,
    "collapsed": false,
    "ein.tags": "worksheet-0",
    "slideshow": {
     "slide_type": "-"
    }
   },
   "outputs": [],
   "source": [
    "eps_all.drop(['Unnamed: 0'], 1).iloc[:, (d.treatment == 'b').tolist()].plot.hist(bins = 30)"
   ]
  },
  {
   "cell_type": "code",
   "execution_count": 141,
   "metadata": {
    "autoscroll": false,
    "collapsed": false,
    "ein.tags": "worksheet-0",
    "slideshow": {
     "slide_type": "-"
    }
   },
   "outputs": [],
   "source": [
    "from statsmodels.iolib.summary2 import _df_to_simpletable"
   ]
  },
  {
   "cell_type": "code",
   "execution_count": null,
   "metadata": {
    "autoscroll": false,
    "collapsed": false,
    "ein.tags": "worksheet-0",
    "slideshow": {
     "slide_type": "-"
    }
   },
   "outputs": [],
   "source": []
  },
  {
   "cell_type": "code",
   "execution_count": null,
   "metadata": {
    "autoscroll": false,
    "collapsed": false,
    "ein.tags": "worksheet-0",
    "slideshow": {
     "slide_type": "-"
    }
   },
   "outputs": [],
   "source": [
    "f = (pd\n",
    "     .concat([d.groupby('treatment').median(), d.groupby('treatment').mean()])\n",
    "     .reset_index()\n",
    "     .assign(N = [29, 28, 29, 28])\n",
    "     .drop(['group', 'prize', 'won'], 1))\n",
    "\n",
    "f"
   ]
  },
  {
   "cell_type": "code",
   "execution_count": null,
   "metadata": {
    "autoscroll": false,
    "collapsed": false,
    "ein.tags": "worksheet-0",
    "slideshow": {
     "slide_type": "-"
    }
   },
   "outputs": [],
   "source": [
    "print(_df_to_simpletable(f, float_format='%.2f').as_latex_tabular())"
   ]
  },
  {
   "cell_type": "code",
   "execution_count": 460,
   "metadata": {
    "autoscroll": false,
    "collapsed": false,
    "ein.tags": "worksheet-0",
    "slideshow": {
     "slide_type": "-"
    }
   },
   "outputs": [
    {
     "data": {
      "text/plain": [
       "['0.285', '370.000']"
      ]
     },
     "execution_count": 460,
     "metadata": {},
     "output_type": "execute_result"
    }
   ],
   "source": [
    "t = mannwhitneyu(a.time.tolist(), b.time.tolist())\n",
    "stats = [t.pvalue, t.statistic]\n",
    "['{0:.3f}'.format(i) for i in stats]"
   ]
  },
  {
   "cell_type": "code",
   "execution_count": 459,
   "metadata": {
    "autoscroll": false,
    "collapsed": false,
    "ein.tags": "worksheet-0",
    "slideshow": {
     "slide_type": "-"
    }
   },
   "outputs": [
    {
     "data": {
      "text/plain": [
       "['0.000', '2.000']"
      ]
     },
     "execution_count": 459,
     "metadata": {},
     "output_type": "execute_result"
    }
   ],
   "source": [
    "t = mannwhitneyu(a.opportunity_cost.tolist(), b.opportunity_cost.tolist())\n",
    "\n",
    "stats = [t.pvalue, t.statistic]\n",
    "['{0:.3f}'.format(i) for i in stats]"
   ]
  },
  {
   "cell_type": "code",
   "execution_count": 462,
   "metadata": {
    "autoscroll": false,
    "collapsed": false,
    "ein.tags": "worksheet-0",
    "slideshow": {
     "slide_type": "-"
    }
   },
   "outputs": [
    {
     "data": {
      "text/plain": [
       "(57, 9)"
      ]
     },
     "execution_count": 462,
     "metadata": {},
     "output_type": "execute_result"
    }
   ],
   "source": [
    "d.shape"
   ]
  },
  {
   "cell_type": "code",
   "execution_count": 461,
   "metadata": {
    "autoscroll": false,
    "collapsed": false,
    "ein.tags": "worksheet-0",
    "slideshow": {
     "slide_type": "-"
    }
   },
   "outputs": [
    {
     "data": {
      "text/plain": [
       "['0.080', '317.500']"
      ]
     },
     "execution_count": 461,
     "metadata": {},
     "output_type": "execute_result"
    }
   ],
   "source": [
    "t = mannwhitneyu(a.opportunity_cost_linear.tolist(), b.opportunity_cost_linear.tolist())\n",
    "\n",
    "stats = [t.pvalue, t.statistic]\n",
    "['{0:.3f}'.format(i) for i in stats]"
   ]
  },
  {
   "cell_type": "code",
   "execution_count": 157,
   "metadata": {
    "autoscroll": false,
    "collapsed": false,
    "ein.tags": "worksheet-0",
    "slideshow": {
     "slide_type": "-"
    }
   },
   "outputs": [
    {
     "data": {
      "text/plain": [
       "<matplotlib.axes._subplots.AxesSubplot at 0x7f1da8206c18>"
      ]
     },
     "execution_count": 157,
     "metadata": {},
     "output_type": "execute_result"
    },
    {
     "data": {
      "image/png": "[encoded data removed]",
      "text/plain": [
       "<matplotlib.figure.Figure at 0x7f1daa323780>"
      ]
     },
     "metadata": {},
     "output_type": "display_data"
    }
   ],
   "source": [
    "sns.distplot(a.time, bins=30)"
   ]
  },
  {
   "cell_type": "code",
   "execution_count": 158,
   "metadata": {
    "autoscroll": false,
    "collapsed": false,
    "ein.tags": "worksheet-0",
    "slideshow": {
     "slide_type": "-"
    }
   },
   "outputs": [
    {
     "data": {
      "text/plain": [
       "<matplotlib.axes._subplots.AxesSubplot at 0x7f1dc491e4a8>"
      ]
     },
     "execution_count": 158,
     "metadata": {},
     "output_type": "execute_result"
    },
    {
     "data": {
      "image/png": "[encoded data removed]",
      "text/plain": [
       "<matplotlib.figure.Figure at 0x7f1da828ae10>"
      ]
     },
     "metadata": {},
     "output_type": "display_data"
    }
   ],
   "source": [
    "sns.distplot(b.time, bins=30)"
   ]
  },
  {
   "cell_type": "code",
   "execution_count": 361,
   "metadata": {
    "autoscroll": false,
    "collapsed": false,
    "ein.tags": "worksheet-0",
    "slideshow": {
     "slide_type": "-"
    }
   },
   "outputs": [
    {
     "data": {
      "text/plain": [
       "9.0"
      ]
     },
     "execution_count": 361,
     "metadata": {},
     "output_type": "execute_result"
    }
   ],
   "source": [
    ".25/100 * 60 * 60"
   ]
  },
  {
   "cell_type": "code",
   "execution_count": 55,
   "metadata": {
    "autoscroll": false,
    "collapsed": false,
    "ein.tags": "worksheet-0",
    "slideshow": {
     "slide_type": "-"
    }
   },
   "outputs": [
    {
     "data": {
      "text/plain": [
       "[(0, 0.5)]"
      ]
     },
     "execution_count": 55,
     "metadata": {},
     "output_type": "execute_result"
    },
    {
     "data": {
      "image/png": "[encoded data removed]",
      "text/plain": [
       "<matplotlib.figure.Figure at 0x7f5264406940>"
      ]
     },
     "metadata": {},
     "output_type": "display_data"
    }
   ],
   "source": [
    "sns.distplot(a.opportunity_cost, bins = 25).set(xlim=(0,.5))"
   ]
  },
  {
   "cell_type": "code",
   "execution_count": null,
   "metadata": {
    "autoscroll": false,
    "collapsed": false,
    "ein.tags": "worksheet-0",
    "slideshow": {
     "slide_type": "-"
    }
   },
   "outputs": [
    {
     "data": {
      "text/plain": [
       "[(0, 0.5)]"
      ]
     },
     "execution_count": 56,
     "metadata": {},
     "output_type": "execute_result"
    },
    {
     "data": {
      "image/png": "[encoded data removed]",
      "text/plain": [
       "<matplotlib.figure.Figure at 0x7f52641a2668>"
      ]
     },
     "metadata": {},
     "output_type": "display_data"
    }
   ],
   "source": [
    "sns.distplot(b.opportunity_cost, bins = 15).set(xlim=(0,.5))"
   ]
  },
  {
   "cell_type": "code",
   "execution_count": 79,
   "metadata": {
    "autoscroll": false,
    "collapsed": false,
    "ein.tags": "worksheet-0",
    "slideshow": {
     "slide_type": "-"
    }
   },
   "outputs": [
    {
     "data": {
      "text/plain": [
       "[(0, 0.15)]"
      ]
     },
     "execution_count": 79,
     "metadata": {},
     "output_type": "execute_result"
    },
    {
     "data": {
      "image/png": "[encoded data removed]",
      "text/plain": [
       "<matplotlib.figure.Figure at 0x7f5264051e48>"
      ]
     },
     "metadata": {},
     "output_type": "display_data"
    }
   ],
   "source": [
    "sns.distplot(a.opportunity_cost_linear, bins = 15).set(xlim=(0,.15))"
   ]
  },
  {
   "cell_type": "code",
   "execution_count": 80,
   "metadata": {
    "autoscroll": false,
    "collapsed": false,
    "ein.tags": "worksheet-0",
    "slideshow": {
     "slide_type": "-"
    }
   },
   "outputs": [
    {
     "data": {
      "text/plain": [
       "[(0, 0.15)]"
      ]
     },
     "execution_count": 80,
     "metadata": {},
     "output_type": "execute_result"
    },
    {
     "data": {
      "image/png": "[encoded data removed]",
      "text/plain": [
       "<matplotlib.figure.Figure at 0x7f525db51320>"
      ]
     },
     "metadata": {},
     "output_type": "display_data"
    }
   ],
   "source": [
    "sns.distplot(b.opportunity_cost_linear, bins = 15).set(xlim=(0,.15))"
   ]
  }
 ],
 "metadata": {
  "kernelspec": {
   "display_name": "Python 3",
   "name": "python3"
  },
  "name": "slow-fast.ipynb"
 },
 "nbformat": 4,
 "nbformat_minor": 2
}
